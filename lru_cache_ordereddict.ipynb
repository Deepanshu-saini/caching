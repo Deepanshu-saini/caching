{
  "nbformat": 4,
  "nbformat_minor": 0,
  "metadata": {
    "colab": {
      "name": "Untitled7.ipynb",
      "provenance": []
    },
    "kernelspec": {
      "name": "python3",
      "display_name": "Python 3"
    },
    "language_info": {
      "name": "python"
    }
  },
  "cells": [
    {
      "cell_type": "code",
      "source": [
        "from collections import OrderedDict\n",
        " \n",
        "class LRUCache:\n",
        "    def __init__(self, capacity: int):\n",
        "        self.cache = OrderedDict()\n",
        "        self.capacity = capacity\n",
        "    def get(self, key: int) -> int:\n",
        "        if key not in self.cache:\n",
        "            return -1\n",
        "        else:\n",
        "            self.cache.move_to_end(key)\n",
        "            return self.cache[key]\n",
        "    def put(self, key: int, value: int) -> None:\n",
        "        self.cache[key] = value\n",
        "        self.cache.move_to_end(key)\n",
        "        if len(self.cache) > self.capacity:\n",
        "            self.cache.popitem(last = False)\n",
        "cache = LRUCache(3)\n",
        "cache.put(1, 1)\n",
        "cache.put(2, 2)\n",
        "print(cache.get(1))\n",
        "cache.put(3, 3)\n",
        "print(cache.get(2))\n",
        "cache.put(4, 4)\n",
        "print(cache.get(1))"
      ],
      "metadata": {
        "colab": {
          "base_uri": "https://localhost:8080/"
        },
        "id": "iJRWHuF4A4iY",
        "outputId": "d3bbd7db-a9f0-4aee-cabd-698f1ecc34d3"
      },
      "execution_count": 3,
      "outputs": [
        {
          "output_type": "stream",
          "name": "stdout",
          "text": [
            "1\n",
            "2\n",
            "-1\n"
          ]
        }
      ]
    }
  ]
}