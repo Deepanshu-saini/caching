{
  "nbformat": 4,
  "nbformat_minor": 0,
  "metadata": {
    "colab": {
      "name": "Untitled0.ipynb",
      "provenance": []
    },
    "kernelspec": {
      "name": "python3",
      "display_name": "Python 3"
    },
    "language_info": {
      "name": "python"
    }
  },
  "cells": [
    {
      "cell_type": "code",
      "metadata": {
        "id": "8INVcl0gadMM",
        "colab": {
          "base_uri": "https://localhost:8080/"
        },
        "outputId": "85b1887e-b8d5-4d7f-dec3-798ec856e29b"
      },
      "source": [
        "class node:\n",
        "  def __init__(self,k=0,v=0):\n",
        "    self.key=k\n",
        "    self.value=v\n",
        "    self.next=None\n",
        "    self.prev=None\n",
        "class lru_cache:\n",
        "  def __init__(self,size):\n",
        "    self.size=size\n",
        "    self.d={}\n",
        "    self.head=self.tail=node(0,0)\n",
        "    self.head.next=self.tail\n",
        "    self.tail.prev=self.head\n",
        "  def delete(self,node):\n",
        "    t=node.next\n",
        "    node.prev.next=t\n",
        "    t.prev=node.prev\n",
        "  def add(self,node):\n",
        "    node.next = self.head.next\n",
        "    node.next.prev = node\n",
        "    node.prev = self.head\n",
        "    self.head.next = node\n",
        "  def set(self,k,v):\n",
        "    if k in self.d:\n",
        "      self.delete(self.d[k])\n",
        "    n=node(k,v)\n",
        "    self.d[k]=n\n",
        "    self.add(n)\n",
        "    if len(self.d)>self.size:\n",
        "      del self.d[self.tail.prev.key]\n",
        "      self.delete(self.tail.prev)\n",
        "  def get(self,k):\n",
        "    if k not in self.d:\n",
        "      return -1\n",
        "    else:\n",
        "      n=self.d[k]\n",
        "      v=n.value\n",
        "      self.delete(n)\n",
        "      self.add(n)\n",
        "      return v\n",
        "\n",
        "cache=lru_cache(3)\n",
        "cache.set(1,1)\n",
        "cache.set(2,2)\n",
        "cache.set(3,3)\n",
        "print(cache.get(2))\n",
        "print(cache.get(3))\n",
        "cache.set(4,4)\n",
        "print(cache.get(1))\n"
      ],
      "execution_count": 2,
      "outputs": [
        {
          "output_type": "stream",
          "name": "stdout",
          "text": [
            "2\n",
            "3\n",
            "-1\n"
          ]
        }
      ]
    }
  ]
}